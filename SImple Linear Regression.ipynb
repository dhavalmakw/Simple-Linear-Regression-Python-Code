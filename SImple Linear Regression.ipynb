{
  "nbformat": 4,
  "nbformat_minor": 0,
  "metadata": {
    "kernelspec": {
      "display_name": "Python 3",
      "language": "python",
      "name": "python3"
    },
    "language_info": {
      "codemirror_mode": {
        "name": "ipython",
        "version": 3
      },
      "file_extension": ".py",
      "mimetype": "text/x-python",
      "name": "python",
      "nbconvert_exporter": "python",
      "pygments_lexer": "ipython3",
      "version": "3.8.5"
    },
    "colab": {
      "name": "The  Sparks Foundation.ipynb",
      "provenance": [],
      "collapsed_sections": []
    }
  },
  "cells": [
    {
      "cell_type": "markdown",
      "metadata": {
        "id": "NAi-jk53jR5b"
      },
      "source": [
        "# **The Sparks Foundation**\n",
        "##  Dhaval Makwana\n",
        "\n",
        ">**Task 1 : Prediction using Supervised ML**\n",
        "\n",
        "> Supervised Machine Learning is a method where the models are trained using labeled data, it needs supervision to train the model. Here, I'm using sklearn library for preforming Linear RegressiRegression. The Scikit Learn is written in Python. The Scikit Learn uses Numpy for the operation of high-performance linear array and algebra. \n",
        "\n",
        "\n",
        "\n"
      ]
    },
    {
      "cell_type": "markdown",
      "metadata": {
        "id": "AcsmGHoImjq2"
      },
      "source": [
        "# **Predict the percentage of the student based on the no. of study hours.**"
      ]
    },
    {
      "cell_type": "markdown",
      "metadata": {
        "id": "TRDp2_xvmSXE"
      },
      "source": [
        "The first step is to import the libraries that are required for the implementation of the code operation. "
      ]
    },
    {
      "cell_type": "code",
      "metadata": {
        "id": "VbxwcFNMcOI_"
      },
      "source": [
        "import pandas as pd  #For data analysis\n",
        "import numpy as np   #For working with arrays,linear algebra, fourier transform, and matrices\n",
        "import matplotlib.pyplot as plt #For Ploting a graph    "
      ],
      "execution_count": 63,
      "outputs": []
    },
    {
      "cell_type": "markdown",
      "metadata": {
        "id": "S5Ftbk0Gm6T3"
      },
      "source": [
        "load the data "
      ]
    },
    {
      "cell_type": "code",
      "metadata": {
        "colab": {
          "base_uri": "https://localhost:8080/",
          "height": 198
        },
        "id": "DefZSoLgcOJC",
        "outputId": "c3525a00-3b54-4890-aeca-86348340108f"
      },
      "source": [
        "df = pd.read_csv('http://bit.ly/w-data')\n",
        "df.head()"
      ],
      "execution_count": 64,
      "outputs": [
        {
          "output_type": "execute_result",
          "data": {
            "text/html": [
              "<div>\n",
              "<style scoped>\n",
              "    .dataframe tbody tr th:only-of-type {\n",
              "        vertical-align: middle;\n",
              "    }\n",
              "\n",
              "    .dataframe tbody tr th {\n",
              "        vertical-align: top;\n",
              "    }\n",
              "\n",
              "    .dataframe thead th {\n",
              "        text-align: right;\n",
              "    }\n",
              "</style>\n",
              "<table border=\"1\" class=\"dataframe\">\n",
              "  <thead>\n",
              "    <tr style=\"text-align: right;\">\n",
              "      <th></th>\n",
              "      <th>Hours</th>\n",
              "      <th>Scores</th>\n",
              "    </tr>\n",
              "  </thead>\n",
              "  <tbody>\n",
              "    <tr>\n",
              "      <th>0</th>\n",
              "      <td>2.5</td>\n",
              "      <td>21</td>\n",
              "    </tr>\n",
              "    <tr>\n",
              "      <th>1</th>\n",
              "      <td>5.1</td>\n",
              "      <td>47</td>\n",
              "    </tr>\n",
              "    <tr>\n",
              "      <th>2</th>\n",
              "      <td>3.2</td>\n",
              "      <td>27</td>\n",
              "    </tr>\n",
              "    <tr>\n",
              "      <th>3</th>\n",
              "      <td>8.5</td>\n",
              "      <td>75</td>\n",
              "    </tr>\n",
              "    <tr>\n",
              "      <th>4</th>\n",
              "      <td>3.5</td>\n",
              "      <td>30</td>\n",
              "    </tr>\n",
              "  </tbody>\n",
              "</table>\n",
              "</div>"
            ],
            "text/plain": [
              "   Hours  Scores\n",
              "0    2.5      21\n",
              "1    5.1      47\n",
              "2    3.2      27\n",
              "3    8.5      75\n",
              "4    3.5      30"
            ]
          },
          "metadata": {
            "tags": []
          },
          "execution_count": 64
        }
      ]
    },
    {
      "cell_type": "markdown",
      "metadata": {
        "id": "wS9qyaRdnM94"
      },
      "source": [
        "Plotting a 2-D graph of Hours vs Percentage"
      ]
    },
    {
      "cell_type": "code",
      "metadata": {
        "colab": {
          "base_uri": "https://localhost:8080/",
          "height": 295
        },
        "id": "p9S788DMcOJF",
        "outputId": "0494f4e0-d70f-4a23-a289-b1b9a18ce263"
      },
      "source": [
        "df.plot(x='Hours', y='Scores', style='o')    \n",
        "plt.title('Hours vs Percentage')    \n",
        "plt.xlabel('The Hours Studied')    \n",
        "plt.ylabel('The Percentage Score')    \n",
        "plt.show() "
      ],
      "execution_count": 65,
      "outputs": [
        {
          "output_type": "display_data",
          "data": {
            "image/png": "[encoded data removed]",
            "text/plain": [
              "<Figure size 432x288 with 1 Axes>"
            ]
          },
          "metadata": {
            "tags": [],
            "needs_background": "light"
          }
        }
      ]
    },
    {
      "cell_type": "markdown",
      "metadata": {
        "id": "ZhUhI_BOnyp_"
      },
      "source": [
        "Dividing the data into attributes and labels."
      ]
    },
    {
      "cell_type": "code",
      "metadata": {
        "colab": {
          "base_uri": "https://localhost:8080/"
        },
        "id": "1dgqGBh-cOJG",
        "outputId": "0346a8af-bb4d-4c4f-cce3-fe3910a5c7aa"
      },
      "source": [
        "X = df.iloc[:, :-1].values    \n",
        "y = df.iloc[:, 1].values  \n",
        "\n",
        "print(X)\n",
        "print('\\n')\n",
        "print(y)"
      ],
      "execution_count": 66,
      "outputs": [
        {
          "output_type": "stream",
          "text": [
            "[[2.5]\n",
            " [5.1]\n",
            " [3.2]\n",
            " [8.5]\n",
            " [3.5]\n",
            " [1.5]\n",
            " [9.2]\n",
            " [5.5]\n",
            " [8.3]\n",
            " [2.7]\n",
            " [7.7]\n",
            " [5.9]\n",
            " [4.5]\n",
            " [3.3]\n",
            " [1.1]\n",
            " [8.9]\n",
            " [2.5]\n",
            " [1.9]\n",
            " [6.1]\n",
            " [7.4]\n",
            " [2.7]\n",
            " [4.8]\n",
            " [3.8]\n",
            " [6.9]\n",
            " [7.8]]\n",
            "\n",
            "\n",
            "[21 47 27 75 30 20 88 60 81 25 85 62 41 42 17 95 30 24 67 69 30 54 35 76\n",
            " 86]\n"
          ],
          "name": "stdout"
        }
      ]
    },
    {
      "cell_type": "markdown",
      "metadata": {
        "id": "p79g_QHcn8V3"
      },
      "source": [
        "Split the data into the training and testing sets"
      ]
    },
    {
      "cell_type": "code",
      "metadata": {
        "id": "LhOnTLbycOJG"
      },
      "source": [
        "from sklearn.model_selection import train_test_split   \n",
        "X_train, X_test, y_train, y_test = train_test_split(X, y,test_size=0.2, random_state=0)"
      ],
      "execution_count": 67,
      "outputs": []
    },
    {
      "cell_type": "markdown",
      "metadata": {
        "id": "EGg9r9g6oHQ1"
      },
      "source": [
        "Train the Algorithm "
      ]
    },
    {
      "cell_type": "code",
      "metadata": {
        "colab": {
          "base_uri": "https://localhost:8080/"
        },
        "id": "kQLbHdOQddu8",
        "outputId": "77571545-7356-4f9d-897a-9dc298985417"
      },
      "source": [
        "from sklearn.linear_model import LinearRegression     \n",
        "\n",
        "regressor = LinearRegression()    \n",
        "regressor.fit(X_train, y_train)   "
      ],
      "execution_count": 68,
      "outputs": [
        {
          "output_type": "execute_result",
          "data": {
            "text/plain": [
              "LinearRegression(copy_X=True, fit_intercept=True, n_jobs=None, normalize=False)"
            ]
          },
          "metadata": {
            "tags": []
          },
          "execution_count": 68
        }
      ]
    },
    {
      "cell_type": "markdown",
      "metadata": {
        "id": "yVhep5ucoxaZ"
      },
      "source": [
        "Implementation of plotting the testing data using trained testing data:"
      ]
    },
    {
      "cell_type": "code",
      "metadata": {
        "colab": {
          "base_uri": "https://localhost:8080/",
          "height": 295
        },
        "id": "y_EHvRmvdxAp",
        "outputId": "7a73549f-8881-43cd-ef81-3a87655c176c"
      },
      "source": [
        "line = regressor.coef_*X+regressor.intercept_  \n",
        "\n",
        "plt.scatter(X, y)  \n",
        "plt.plot(X, line);\n",
        "plt.title('Line Of Best Fit Plot')\n",
        "plt.xlabel('Number Of Hours Of Study')\n",
        "plt.ylabel('Score Of Candidate In Percentage')\n",
        "plt.show()"
      ],
      "execution_count": 69,
      "outputs": [
        {
          "output_type": "display_data",
          "data": {
            "image/png": "[encoded data removed]",
            "text/plain": [
              "<Figure size 432x288 with 1 Axes>"
            ]
          },
          "metadata": {
            "tags": [],
            "needs_background": "light"
          }
        }
      ]
    },
    {
      "cell_type": "markdown",
      "metadata": {
        "id": "-qLNwU-qpZZ4"
      },
      "source": [
        "Prediction Score of the model "
      ]
    },
    {
      "cell_type": "code",
      "metadata": {
        "colab": {
          "base_uri": "https://localhost:8080/"
        },
        "id": "VYxuY3WndxCZ",
        "outputId": "5cd708c0-1178-449b-ea6f-b2301027deca"
      },
      "source": [
        "print(X_test)   \n",
        "y_pred = regressor.predict(X_test) "
      ],
      "execution_count": 70,
      "outputs": [
        {
          "output_type": "stream",
          "text": [
            "[[1.5]\n",
            " [3.2]\n",
            " [7.4]\n",
            " [2.5]\n",
            " [5.9]]\n"
          ],
          "name": "stdout"
        }
      ]
    },
    {
      "cell_type": "markdown",
      "metadata": {
        "id": "2p8BQc6Wpiqf"
      },
      "source": [
        "Compareing the Actucal Value and Predicted Value "
      ]
    },
    {
      "cell_type": "code",
      "metadata": {
        "colab": {
          "base_uri": "https://localhost:8080/",
          "height": 198
        },
        "id": "SI7KYqNPdxFd",
        "outputId": "9f615522-8e24-4628-be52-fd2e514fd8a7"
      },
      "source": [
        "df1 = pd.DataFrame({'Actual': y_test, 'Predicted': y_pred})    \n",
        "df1  "
      ],
      "execution_count": 71,
      "outputs": [
        {
          "output_type": "execute_result",
          "data": {
            "text/html": [
              "<div>\n",
              "<style scoped>\n",
              "    .dataframe tbody tr th:only-of-type {\n",
              "        vertical-align: middle;\n",
              "    }\n",
              "\n",
              "    .dataframe tbody tr th {\n",
              "        vertical-align: top;\n",
              "    }\n",
              "\n",
              "    .dataframe thead th {\n",
              "        text-align: right;\n",
              "    }\n",
              "</style>\n",
              "<table border=\"1\" class=\"dataframe\">\n",
              "  <thead>\n",
              "    <tr style=\"text-align: right;\">\n",
              "      <th></th>\n",
              "      <th>Actual</th>\n",
              "      <th>Predicted</th>\n",
              "    </tr>\n",
              "  </thead>\n",
              "  <tbody>\n",
              "    <tr>\n",
              "      <th>0</th>\n",
              "      <td>20</td>\n",
              "      <td>16.884145</td>\n",
              "    </tr>\n",
              "    <tr>\n",
              "      <th>1</th>\n",
              "      <td>27</td>\n",
              "      <td>33.732261</td>\n",
              "    </tr>\n",
              "    <tr>\n",
              "      <th>2</th>\n",
              "      <td>69</td>\n",
              "      <td>75.357018</td>\n",
              "    </tr>\n",
              "    <tr>\n",
              "      <th>3</th>\n",
              "      <td>30</td>\n",
              "      <td>26.794801</td>\n",
              "    </tr>\n",
              "    <tr>\n",
              "      <th>4</th>\n",
              "      <td>62</td>\n",
              "      <td>60.491033</td>\n",
              "    </tr>\n",
              "  </tbody>\n",
              "</table>\n",
              "</div>"
            ],
            "text/plain": [
              "   Actual  Predicted\n",
              "0      20  16.884145\n",
              "1      27  33.732261\n",
              "2      69  75.357018\n",
              "3      30  26.794801\n",
              "4      62  60.491033"
            ]
          },
          "metadata": {
            "tags": []
          },
          "execution_count": 71
        }
      ]
    },
    {
      "cell_type": "markdown",
      "metadata": {
        "id": "Z6tkjhfOp48O"
      },
      "source": [
        "Now it's time to test our model with sample testing hours"
      ]
    },
    {
      "cell_type": "code",
      "metadata": {
        "colab": {
          "base_uri": "https://localhost:8080/"
        },
        "id": "8A553GvndxIV",
        "outputId": "bf934095-e063-435e-8fd8-f95dbef44e56"
      },
      "source": [
        "hours = [[7]]  \n",
        "own_pred = regressor.predict(hours)  \n",
        "print(\"Number of hours = {}\".format(hours))  \n",
        "print(\"Prediction Score = {}\".format(own_pred[0]))\n",
        "print(\"\\n\")\n",
        "hours = [[6]]  \n",
        "own_pred = regressor.predict(hours)  \n",
        "print(\"Number of hours = {}\".format(hours))  \n",
        "print(\"Prediction Score = {}\".format(own_pred[0]))"
      ],
      "execution_count": 72,
      "outputs": [
        {
          "output_type": "stream",
          "text": [
            "Number of hours = [[7]]\n",
            "Prediction Score = 71.39275540593033\n",
            "\n",
            "\n",
            "Number of hours = [[6]]\n",
            "Prediction Score = 61.482098925288106\n"
          ],
          "name": "stdout"
        }
      ]
    },
    {
      "cell_type": "markdown",
      "metadata": {
        "id": "YwN-iNgKqJ2O"
      },
      "source": [
        "Evaluating our mode with Mean Squared Error and Mean Absolute Error "
      ]
    },
    {
      "cell_type": "code",
      "metadata": {
        "colab": {
          "base_uri": "https://localhost:8080/"
        },
        "id": "x2ikq1LZfazN",
        "outputId": "daf68efc-57a9-48ff-e1f7-ee0a30dc3d2a"
      },
      "source": [
        "from sklearn import metrics \n",
        "MSE = metrics.mean_squared_error(y_test,y_pred)\n",
        "print('Mean Suared Error: ', MSE)\n",
        "print('\\n')\n",
        "\n",
        "MAE = metrics.mean_absolute_error(y_test,y_pred)\n",
        "print('Mean Absolute_Error: ', MAE) "
      ],
      "execution_count": 73,
      "outputs": [
        {
          "output_type": "stream",
          "text": [
            "Mean Suared Error:  21.598769307217456\n",
            "\n",
            "\n",
            "Mean Absolute_Error:  4.183859899002982\n"
          ],
          "name": "stdout"
        }
      ]
    },
    {
      "cell_type": "markdown",
      "metadata": {
        "id": "leb0ostxqcPT"
      },
      "source": [
        "# **Conclusion**\n",
        "Simple linear regression is used to estimate the relationship between two quantitative variables. You can use simple linear regression when you want to know: How strong the relationship is between two variables e.g. rainfall and soil erosion, student's hours and his score etc.\n",
        "\n",
        "\n",
        "\n",
        "> Linear regressions can be used in business to evaluate trends and make estimates or forecasts. In real life if a company's sales have increased steadily every month for the past few years, by conducting a linear analysis on the sales data with monthly sales, the company could forecast sales in future months.\n"
      ]
    }
  ]
}